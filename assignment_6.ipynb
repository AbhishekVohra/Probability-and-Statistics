{
  "cells": [
    {
      "cell_type": "markdown",
      "metadata": {
        "id": "view-in-github",
        "colab_type": "text"
      },
      "source": [
        "<a href=\"https://colab.research.google.com/github/AbhishekVohra/Probability-and-Statistics/blob/main/assignment_6.ipynb\" target=\"_parent\"><img src=\"https://colab.research.google.com/assets/colab-badge.svg\" alt=\"Open In Colab\"/></a>"
      ]
    },
    {
      "cell_type": "code",
      "execution_count": 1,
      "metadata": {
        "colab": {
          "base_uri": "https://localhost:8080/"
        },
        "id": "yvIttvIouEy-",
        "outputId": "d45aa287-f4e0-4ecd-d376-cc8968416593",
        "vscode": {
          "languageId": "r"
        }
      },
      "outputs": [
        {
          "output_type": "stream",
          "name": "stderr",
          "text": [
            "Loading required package: pracma\n",
            "\n",
            "Warning message in library(package, lib.loc = lib.loc, character.only = TRUE, logical.return = TRUE, :\n",
            "“there is no package called ‘pracma’”\n",
            "Installing package into ‘/usr/local/lib/R/site-library’\n",
            "(as ‘lib’ is unspecified)\n",
            "\n"
          ]
        }
      ],
      "source": [
        "# Provides a large number of functions from numerical analysis and linear algebra, numerical optimization, differential equations, time series, plus some well-known special mathematical functions. \n",
        "if(!require('pracma')) {\n",
        "    install.packages('pracma')\n",
        "    library('pracma')\n",
        "}"
      ]
    },
    {
      "cell_type": "markdown",
      "metadata": {
        "id": "9nia832LtRxd"
      },
      "source": [
        "Q1. <br>\n",
        "The joint probability density of two random variables X and Y is\n",
        "<br>f(x, y) = integrate( <br> &nbsp; &nbsp;\n",
        "2(2x + 3y)/5; 0 ≤ x, y ≤ 1 <br> &nbsp; &nbsp;\n",
        "0; elsewhere <br>) <br>\n",
        "Then write a R-code to <br>\n",
        "(i) check that it is a joint density function or not? (Use integral2()) <br>\n",
        "(ii) find marginal distribution g(x) at x = 1. <br>\n",
        "(iii) find the marginal distribution h(y) at y = 0. <br>\n",
        "(iv) find the expected value of g(x, y) = xy.\n"
      ]
    },
    {
      "cell_type": "code",
      "execution_count": null,
      "metadata": {
        "colab": {
          "base_uri": "https://localhost:8080/",
          "height": 69
        },
        "id": "8rm9kPXbtuo8",
        "outputId": "09ec487f-797c-4335-db34-4d87f729678a",
        "vscode": {
          "languageId": "r"
        }
      },
      "outputs": [
        {
          "data": {
            "text/html": [
              "1"
            ],
            "text/latex": [
              "1"
            ],
            "text/markdown": [
              "1"
            ],
            "text/plain": [
              "[1] 1"
            ]
          },
          "metadata": {},
          "output_type": "display_data"
        },
        {
          "name": "stdout",
          "output_type": "stream",
          "text": [
            "1.40.4"
          ]
        },
        {
          "data": {
            "text/html": [
              "0.333333333333333"
            ],
            "text/latex": [
              "0.333333333333333"
            ],
            "text/markdown": [
              "0.333333333333333"
            ],
            "text/plain": [
              "[1] 0.3333333"
            ]
          },
          "metadata": {},
          "output_type": "display_data"
        }
      ],
      "source": [
        "# integral will do single integration. \n",
        "# integral2 will double integration. \n",
        "\n",
        "# (i)\n",
        "# if the value is 1 then its a joint density function else its not\n",
        "f = function(x,y) 2*(2*x+3*y)/5\n",
        "I = integral2(f,xmin=0,xmax=1,ymin=0,ymax=1)\n",
        "I$Q\n",
        "\n",
        "# (ii)\n",
        "# marginal distribution of g(x) at x=1 = integrate(f(1,y),0,1)\n",
        "gx_1 = function(y) f(1,y)\n",
        "gx1 = integral(gx_1,0,1)\n",
        "cat(gx1)\n",
        "\n",
        "# (iii)\n",
        "# marginal distribution of h(y) at y=0 = integrate(f(x,0),0,1)\n",
        "hy_0 = function(x) f(x,0)\n",
        "hy0 = integral(hy_0,0,1)\n",
        "cat(hy0)\n",
        "\n",
        "# (iv)\n",
        "f_xy = function(x,y) f(x,y)*x*y\n",
        "E_xy = integral2(f_xy,0,1,0,1)\n",
        "E_xy$Q\n",
        "\n"
      ]
    },
    {
      "cell_type": "markdown",
      "metadata": {
        "id": "OqB5KNeTugDT"
      },
      "source": [
        "Q2. <br>\n",
        " The joint probability mass function of two random variables X and Y is\n",
        "f(x, y) = {(x + y)/30; x = 0, 1, 2, 3; y = 0, 1, 2} <br>\n",
        "Then write a R-code to <br>\n",
        "(i) display the joint mass function in rectangular (matrix) form. <br>\n",
        "(ii) check that it is joint mass function or not? (use: Sum()) <br>\n",
        "(iii) find the marginal distribution g(x) for x = 0, 1, 2, 3. (Use:apply()) <br>\n",
        "(iv) find the marginal distribution h(y) for y = 0, 1, 2. (Use:apply()) <br>\n",
        "(v) find the conditional probability at x = 0 given y = 1.<br>\n",
        "(vi) find E(x), E(y), E(xy), V ar(x), V ar(y), Cov(x, y) and its correlation coefficient"
      ]
    },
    {
      "cell_type": "code",
      "execution_count": null,
      "metadata": {
        "colab": {
          "base_uri": "https://localhost:8080/",
          "height": 580
        },
        "id": "4BUW6iBAutjh",
        "outputId": "bd0f60ce-0a2a-4b8c-b425-3206fb7cea39",
        "vscode": {
          "languageId": "r"
        }
      },
      "outputs": [
        {
          "data": {
            "text/html": [
              "<table class=\"dataframe\">\n",
              "<caption>A matrix: 4 × 3 of type dbl</caption>\n",
              "<tbody>\n",
              "\t<tr><td>0.0</td><td>1.2</td><td>2.4</td></tr>\n",
              "\t<tr><td>0.8</td><td>2.0</td><td>3.2</td></tr>\n",
              "\t<tr><td>1.6</td><td>2.8</td><td>4.0</td></tr>\n",
              "\t<tr><td>2.4</td><td>3.6</td><td>4.8</td></tr>\n",
              "</tbody>\n",
              "</table>\n"
            ],
            "text/latex": [
              "A matrix: 4 × 3 of type dbl\n",
              "\\begin{tabular}{lll}\n",
              "\t 0.0 & 1.2 & 2.4\\\\\n",
              "\t 0.8 & 2.0 & 3.2\\\\\n",
              "\t 1.6 & 2.8 & 4.0\\\\\n",
              "\t 2.4 & 3.6 & 4.8\\\\\n",
              "\\end{tabular}\n"
            ],
            "text/markdown": [
              "\n",
              "A matrix: 4 × 3 of type dbl\n",
              "\n",
              "| 0.0 | 1.2 | 2.4 |\n",
              "| 0.8 | 2.0 | 3.2 |\n",
              "| 1.6 | 2.8 | 4.0 |\n",
              "| 2.4 | 3.6 | 4.8 |\n",
              "\n"
            ],
            "text/plain": [
              "     [,1] [,2] [,3]\n",
              "[1,] 0.0  1.2  2.4 \n",
              "[2,] 0.8  2.0  3.2 \n",
              "[3,] 1.6  2.8  4.0 \n",
              "[4,] 2.4  3.6  4.8 "
            ]
          },
          "metadata": {},
          "output_type": "display_data"
        },
        {
          "data": {
            "text/html": [
              "28.8"
            ],
            "text/latex": [
              "28.8"
            ],
            "text/markdown": [
              "28.8"
            ],
            "text/plain": [
              "[1] 28.8"
            ]
          },
          "metadata": {},
          "output_type": "display_data"
        },
        {
          "data": {
            "text/html": [
              "<style>\n",
              ".list-inline {list-style: none; margin:0; padding: 0}\n",
              ".list-inline>li {display: inline-block}\n",
              ".list-inline>li:not(:last-child)::after {content: \"\\00b7\"; padding: 0 .5ex}\n",
              "</style>\n",
              "<ol class=list-inline><li>3.6</li><li>6</li><li>8.4</li><li>10.8</li></ol>\n"
            ],
            "text/latex": [
              "\\begin{enumerate*}\n",
              "\\item 3.6\n",
              "\\item 6\n",
              "\\item 8.4\n",
              "\\item 10.8\n",
              "\\end{enumerate*}\n"
            ],
            "text/markdown": [
              "1. 3.6\n",
              "2. 6\n",
              "3. 8.4\n",
              "4. 10.8\n",
              "\n",
              "\n"
            ],
            "text/plain": [
              "[1]  3.6  6.0  8.4 10.8"
            ]
          },
          "metadata": {},
          "output_type": "display_data"
        },
        {
          "data": {
            "text/html": [
              "<style>\n",
              ".list-inline {list-style: none; margin:0; padding: 0}\n",
              ".list-inline>li {display: inline-block}\n",
              ".list-inline>li:not(:last-child)::after {content: \"\\00b7\"; padding: 0 .5ex}\n",
              "</style>\n",
              "<ol class=list-inline><li>4.8</li><li>9.6</li><li>14.4</li></ol>\n"
            ],
            "text/latex": [
              "\\begin{enumerate*}\n",
              "\\item 4.8\n",
              "\\item 9.6\n",
              "\\item 14.4\n",
              "\\end{enumerate*}\n"
            ],
            "text/markdown": [
              "1. 4.8\n",
              "2. 9.6\n",
              "3. 14.4\n",
              "\n",
              "\n"
            ],
            "text/plain": [
              "[1]  4.8  9.6 14.4"
            ]
          },
          "metadata": {},
          "output_type": "display_data"
        },
        {
          "data": {
            "text/html": [
              "1.2"
            ],
            "text/latex": [
              "1.2"
            ],
            "text/markdown": [
              "1.2"
            ],
            "text/plain": [
              "[1] 1.2"
            ]
          },
          "metadata": {},
          "output_type": "display_data"
        },
        {
          "data": {
            "text/html": [
              "9.6"
            ],
            "text/latex": [
              "9.6"
            ],
            "text/markdown": [
              "9.6"
            ],
            "text/plain": [
              "[1] 9.6"
            ]
          },
          "metadata": {},
          "output_type": "display_data"
        },
        {
          "data": {
            "text/html": [
              "0.125"
            ],
            "text/latex": [
              "0.125"
            ],
            "text/markdown": [
              "0.125"
            ],
            "text/plain": [
              "[1] 0.125"
            ]
          },
          "metadata": {},
          "output_type": "display_data"
        },
        {
          "name": "stdout",
          "output_type": "stream",
          "text": [
            "E(x) =  55.2\n"
          ]
        },
        {
          "data": {
            "text/html": [
              "136.8"
            ],
            "text/latex": [
              "136.8"
            ],
            "text/markdown": [
              "136.8"
            ],
            "text/plain": [
              "[1] 136.8"
            ]
          },
          "metadata": {},
          "output_type": "display_data"
        },
        {
          "name": "stdout",
          "output_type": "stream",
          "text": [
            "Var(x) =  -2910.24\n",
            "E(y) =  38.4\n"
          ]
        },
        {
          "data": {
            "text/html": [
              "67.2"
            ],
            "text/latex": [
              "67.2"
            ],
            "text/markdown": [
              "67.2"
            ],
            "text/plain": [
              "[1] 67.2"
            ]
          },
          "metadata": {},
          "output_type": "display_data"
        },
        {
          "name": "stdout",
          "output_type": "stream",
          "text": [
            "Var(y) =  -1407.36\n"
          ]
        },
        {
          "data": {
            "text/html": [
              "<table class=\"dataframe\">\n",
              "<caption>A matrix: 4 × 3 of type dbl</caption>\n",
              "<tbody>\n",
              "\t<tr><td>0</td><td>0.00000000</td><td>0.0000000</td></tr>\n",
              "\t<tr><td>0</td><td>0.06666667</td><td>0.2000000</td></tr>\n",
              "\t<tr><td>0</td><td>0.20000000</td><td>0.5333333</td></tr>\n",
              "\t<tr><td>0</td><td>0.40000000</td><td>1.0000000</td></tr>\n",
              "</tbody>\n",
              "</table>\n"
            ],
            "text/latex": [
              "A matrix: 4 × 3 of type dbl\n",
              "\\begin{tabular}{lll}\n",
              "\t 0 & 0.00000000 & 0.0000000\\\\\n",
              "\t 0 & 0.06666667 & 0.2000000\\\\\n",
              "\t 0 & 0.20000000 & 0.5333333\\\\\n",
              "\t 0 & 0.40000000 & 1.0000000\\\\\n",
              "\\end{tabular}\n"
            ],
            "text/markdown": [
              "\n",
              "A matrix: 4 × 3 of type dbl\n",
              "\n",
              "| 0 | 0.00000000 | 0.0000000 |\n",
              "| 0 | 0.06666667 | 0.2000000 |\n",
              "| 0 | 0.20000000 | 0.5333333 |\n",
              "| 0 | 0.40000000 | 1.0000000 |\n",
              "\n"
            ],
            "text/plain": [
              "     [,1] [,2]       [,3]     \n",
              "[1,] 0    0.00000000 0.0000000\n",
              "[2,] 0    0.06666667 0.2000000\n",
              "[3,] 0    0.20000000 0.5333333\n",
              "[4,] 0    0.40000000 1.0000000"
            ]
          },
          "metadata": {},
          "output_type": "display_data"
        },
        {
          "name": "stdout",
          "output_type": "stream",
          "text": [
            "E(xy) =  2.4\n",
            "Cov(xy) =  -2117.28\n",
            "r(xy) =  -1.046192\n"
          ]
        }
      ],
      "source": [
        "# apply() takes Data frame or matrix as an input and gives output in vector, list or array. \n",
        "# Apply function in R is primarily used to avoid explicit uses of loop constructs. It is the most basic of all collections can be used over a matrice.\n",
        "\n",
        "# (i)\n",
        "x = c(0:3)\n",
        "y = c(0:2)\n",
        "M1 = matrix(c(f(0,0:2),f(1,0:2),f(2,0:2),f(3,0:2)), nrow = 4, ncol = 3, byrow = TRUE)\n",
        "M1\n",
        "\n",
        "# (ii)\n",
        "sum(M1)\n",
        "\n",
        "# (iii)\n",
        "gx = apply(M1,1,sum)\n",
        "gx\n",
        "\n",
        "# (iv)\n",
        "hy = apply(M1,2,sum)\n",
        "hy\n",
        "\n",
        "# (v)\n",
        "M1[1,2] # taken these values from the table\n",
        "hy[2]\n",
        "# conditional probability : P(A|B) = P(A and B) / P(B)\n",
        "p_x0_y1 = M1[1,2]/hy[2]\n",
        "p_x0_y1\n",
        "\n",
        "# (vi)\n",
        "\n",
        "# E(x)\n",
        "E_x = sum(x*gx)\n",
        "cat(\"E(x) = \",E_x)\n",
        "cat(\"\\n\")\n",
        "\n",
        "# E(x^2)\n",
        "E_x2 = sum(x*x*gx)\n",
        "E_x2\n",
        "\n",
        "# Var(x)\n",
        "var_x = E_x2 - (E_x * E_x)\n",
        "cat(\"Var(x) = \", var_x)\n",
        "cat(\"\\n\")\n",
        "\n",
        "\n",
        "# E(y)\n",
        "E_y = sum(y*hy)\n",
        "cat(\"E(y) = \", E_y)\n",
        "cat(\"\\n\")\n",
        "\n",
        "# E(y^2)\n",
        "E_y2 = sum(y*y*hy)\n",
        "E_y2\n",
        "\n",
        "# Var(y)\n",
        "var_y = E_y2 - (E_y * E_y)\n",
        "cat(\"Var(y) = \", var_y)\n",
        "cat(\"\\n\")\n",
        "\n",
        "# E(xy)\n",
        "x = c(0:3)\n",
        "y = c(0:2)\n",
        "\n",
        "f1 = function(x,y) x*y*(x+y)/30\n",
        "M2 = matrix(c(f1(0,0:2), f1(1,0:2), f1(2,0:2), f1(3,0:2)), nrow = 4, ncol = 3, byrow = TRUE)\n",
        "M2\n",
        "E_xy = sum(M2)\n",
        "cat(\"E(xy) = \",E_xy)\n",
        "cat(\"\\n\")\n",
        "\n",
        "# Cov(xy)\n",
        "cov_xy = E_xy - (E_x * E_y)\n",
        "cat(\"Cov(xy) = \", cov_xy)\n",
        "cat(\"\\n\")\n",
        "\n",
        "r_xy = cov_xy / sqrt(var_x * var_y)\n",
        "cat(\"r(xy) = \", r_xy)\n",
        "cat(\"\\n\")"
      ]
    }
  ],
  "metadata": {
    "colab": {
      "collapsed_sections": [],
      "provenance": [],
      "include_colab_link": true
    },
    "kernelspec": {
      "display_name": "R",
      "name": "ir"
    },
    "language_info": {
      "name": "R"
    }
  },
  "nbformat": 4,
  "nbformat_minor": 0
}