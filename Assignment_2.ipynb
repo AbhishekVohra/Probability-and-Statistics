{
  "nbformat": 4,
  "nbformat_minor": 0,
  "metadata": {
    "colab": {
      "name": "Assignment - 2.ipynb",
      "provenance": [],
      "collapsed_sections": [],
      "authorship_tag": "ABX9TyN0Pg5c8BWFydDy+PkS1z0v",
      "include_colab_link": true
    },
    "kernelspec": {
      "name": "python3",
      "display_name": "Python 3"
    },
    "language_info": {
      "name": "python"
    }
  },
  "cells": [
    {
      "cell_type": "markdown",
      "metadata": {
        "id": "view-in-github",
        "colab_type": "text"
      },
      "source": [
        "<a href=\"https://colab.research.google.com/github/AbhishekVohra/Probability-and-Statistics/blob/main/Assignment_2.ipynb\" target=\"_parent\"><img src=\"https://colab.research.google.com/assets/colab-badge.svg\" alt=\"Open In Colab\"/></a>"
      ]
    },
    {
      "cell_type": "markdown",
      "source": [
        "<h1 align=\"center\"> Assignment - 2 <h1/>\n",
        "\n",
        "<br><br>\n",
        "<h3>Abhishek Vohra\n",
        "<br> 102003439\n",
        "<br> 3CO-17 <h3/>"
      ],
      "metadata": {
        "id": "yBtswMFg9Vkk"
      }
    },
    {
      "cell_type": "code",
      "source": [
        " %load_ext rpy2.ipython"
      ],
      "metadata": {
        "id": "kScp-fDg9wJZ"
      },
      "execution_count": null,
      "outputs": []
    },
    {
      "cell_type": "markdown",
      "source": [
        "(1) (a) Suppose there is a chest of coins with 20 gold, 30 silver and 50 bronze coins.\n",
        "You randomly draw 10 coins from this chest. Write an R code which will give us the\n",
        "sample space for this experiment. (use of sample(): an in-built function in R)\n",
        "(b) In a surgical procedure, the chances of success and failure are 90% and 10%\n",
        "respectively. Generate a sample space for the next 10 surgical procedures performed.\n",
        "(use of prob(): an in-built function in R)\n"
      ],
      "metadata": {
        "id": "NDa46dt-92gM"
      }
    },
    {
      "cell_type": "code",
      "source": [
        "%%R\n",
        "\n",
        "# we are basically creating a vector of the given data\n",
        "# we use the rep function to depict the frequency of each type of coin\n",
        "coin_data = c(rep(\"gold\", 20),\n",
        "              rep(\"silver\", 30),\n",
        "              rep(\"bronze\", 50)\n",
        "              )\n",
        "# sample function used to take a random sample of elements from a dataset\n",
        "sample(x = coin_data)\n",
        "# if we only need to take n random elements from the given sample, we can define the size\n",
        "sample(x = coin_data, size = 10)"
      ],
      "metadata": {
        "colab": {
          "base_uri": "https://localhost:8080/"
        },
        "id": "TnclI4dr97BV",
        "outputId": "5da62ec2-5b79-4d5f-f00d-0255b0026082"
      },
      "execution_count": null,
      "outputs": [
        {
          "output_type": "stream",
          "name": "stdout",
          "text": [
            " [1] \"gold\"   \"bronze\" \"bronze\" \"gold\"   \"silver\" \"silver\" \"silver\" \"bronze\"\n",
            " [9] \"bronze\" \"bronze\"\n"
          ]
        }
      ]
    },
    {
      "cell_type": "markdown",
      "source": [
        "(1) (b)In a surgical procedure, the chances of success and failure are 90% and 10%\n",
        "respectively. Generate a sample space for the next 10 surgical procedures performed.\n",
        "(use of prob(): an in-built function in R)"
      ],
      "metadata": {
        "id": "O-HXX067_GQ5"
      }
    },
    {
      "cell_type": "code",
      "source": [
        "%%R\n",
        "\n",
        "# first we create a vector of the possible outputs i.e. success or failure\n",
        "# then we define the size of the sample space\n",
        "# replace = T means that after selecting a particular element from the sample space, it is kept back into the sample space\n",
        "# prob() defines the probability of success or failure to happen respectively\n",
        "sample(c(\"Success\",\"Failure\"), size = 10, replace = T, prob=c(0.9,0.1))"
      ],
      "metadata": {
        "colab": {
          "base_uri": "https://localhost:8080/"
        },
        "id": "GKHckaqB_LUV",
        "outputId": "f07a1c0a-42fb-4cc7-de1c-8a814452468e"
      },
      "execution_count": null,
      "outputs": [
        {
          "output_type": "stream",
          "name": "stdout",
          "text": [
            " [1] \"Success\" \"Success\" \"Success\" \"Success\" \"Failure\" \"Success\" \"Success\"\n",
            " [8] \"Success\" \"Success\" \"Failure\"\n"
          ]
        }
      ]
    },
    {
      "cell_type": "markdown",
      "source": [
        "(2) A room has n people, and each has an equal chance of being born on any of the 365\n",
        "days of the year. (For simplicity, we’ll ignore leap years). What is the probability\n",
        "that two people in the room have the same birthday? <br>\n",
        "(a) Use an R simulation to estimate this for various n. <br>\n",
        "(b) Find the smallest value of n for which the probability of a match is greater than\n",
        ".5."
      ],
      "metadata": {
        "id": "y1uT42FoETQR"
      }
    },
    {
      "cell_type": "code",
      "source": [
        "%%R\n",
        "# (a)\n",
        "# n is the number of people\n",
        "n = 100\n",
        "prod = 1\n",
        "\n",
        "# finding the probability that none of the people have the same birthday\n",
        "for(i in 1:(n-1))\n",
        "{\n",
        "  prod = prod * (1-(i/365))\n",
        "}\n",
        "prob = 1 - prod\n",
        "cat(\"probability = \", prob)\n",
        "cat(\"\\n\")\n",
        "\n",
        "# (b)\n",
        "n = 2\n",
        "while (n >= 2){\n",
        "    prod = 1\n",
        "    for (i in 1:(n-1))\n",
        "    {\n",
        "        prod = prod * (1-(i/365))\n",
        "    }\n",
        "    prob = 1-prod\n",
        "    if (prob > .5){\n",
        "        break\n",
        "    }\n",
        "    n = n + 1\n",
        "}\n",
        "cat(\"smallest value of n : \", n)\n"
      ],
      "metadata": {
        "colab": {
          "base_uri": "https://localhost:8080/"
        },
        "id": "2D85cgE4EU2_",
        "outputId": "c8fecf21-a8f7-436c-95c4-93d31b62a2a0"
      },
      "execution_count": null,
      "outputs": [
        {
          "output_type": "stream",
          "name": "stdout",
          "text": [
            "probability =  0.9999997\n",
            "smallest value of n :  23"
          ]
        }
      ]
    },
    {
      "cell_type": "markdown",
      "source": [
        "(3) Write an R function for computing conditional probability. Call this function to do\n",
        "the following problem:\n",
        "suppose the probability of the weather being cloudy is 40%. Also suppose the probability of rain on a given day is 20% and that the probability of clouds on a rainy day\n",
        "is 85%. If it’s cloudy outside on a given day, what is the probability that it will rain\n",
        "that day?\n"
      ],
      "metadata": {
        "id": "Xq3jFCMIQN6n"
      }
    },
    {
      "cell_type": "code",
      "source": [
        "%%R\n",
        "\n",
        "BayesTheorem <- function(pRain, pCloudy, pCloudyRain)\n",
        "{\n",
        "  pRainCloudy = (pRain * pCloudyRain) / pCloudy\n",
        "  return(pRainCloudy)\n",
        "}\n",
        "\n",
        "pRain = 0.2\n",
        "pCloudy = 0.4\n",
        "pCloudyRain = 0.85\n",
        "\n",
        "prob = BayesTheorem(pRain, pCloudy, pCloudyRain)\n",
        "cat(\"Probability : \", prob)"
      ],
      "metadata": {
        "colab": {
          "base_uri": "https://localhost:8080/"
        },
        "id": "_bMuHXkIQSbr",
        "outputId": "e92331a6-cc3f-4220-b394-83e90c477990"
      },
      "execution_count": null,
      "outputs": [
        {
          "output_type": "stream",
          "name": "stdout",
          "text": [
            "Probability :  0.425"
          ]
        }
      ]
    },
    {
      "cell_type": "markdown",
      "source": [
        "(4) The iris dataset is a built-in dataset in R that contains measurements on 4 different\n",
        "attributes (in centimeters) for 150 flowers from 3 different species. Load this dataset\n",
        "and do the following: <br>\n",
        "(a) Print first few rows of this dataset. <br>\n",
        "(b) Find the structure of this dataset. <br>\n",
        "(c) Find the range of the data regarding the sepal length of flowers. <br>\n",
        "(d) Find the mean of the sepal length. <br>\n",
        "(e) Find the median of the sepal length. <br>\n",
        "(f) Find the first and the third quartiles and hence the interquartile range. <br>\n",
        "(g) Find the standard deviation and variance. <br>\n",
        "(h) Try doing the above exercises for sepal.width, petal.length and petal.width. <br>\n",
        "(i) Use the built-in function summary on the dataset Iris."
      ],
      "metadata": {
        "id": "rmJnaYMASx9M"
      }
    },
    {
      "cell_type": "code",
      "source": [
        "%%R\n",
        "\n",
        "iris\n",
        "\n",
        "# (a)\n",
        "head(iris)\n",
        "dat = iris\n",
        "head(dat)\n",
        "\n",
        "# (b)\n",
        "str(dat)\n",
        "\n",
        "# (c)\n",
        "dat$Sepal.Length\n",
        "rng = range(dat$Sepal.Length)\n",
        "cat(\"Range = \", rng)\n",
        "cat(\"\\n\")\n",
        "\n",
        "# (d)\n",
        "meanval = mean(dat$Sepal.Length)\n",
        "cat(\"Mean = \", meanval)\n",
        "cat(\"\\n\")\n",
        "\n",
        "# (e)\n",
        "medianval = median(dat$Sepal.Length)\n",
        "cat(\"Median = \", medianval)\n",
        "cat(\"\\n\")\n",
        "\n",
        "# (f)\n",
        "\n",
        "cat(\"First quantile = \", quantile(dat$Sepal.Length,0.25))\n",
        "cat(\"\\n\")\n",
        "cat(\"Third quantile = \", quantile(dat$Sepal.Length,0.75))\n",
        "cat(\"\\n\")\n",
        "cat(\"Inter quantile range = \", IQR(dat$Sepal.Length))\n",
        "cat(\"\\n\")\n",
        "\n",
        "# (g)\n",
        "cat (\"Variance = \", sd(dat$Sepal.Width), \"\\n\")\n",
        "cat (\"Standard Variation = \", var(dat$Sepal.Width), \"\\n\")\n",
        "\n",
        "# (h)\n",
        "lapply(dat[1:4], sd)\n",
        "\n",
        "# (i)\n",
        "summary(iris)"
      ],
      "metadata": {
        "colab": {
          "base_uri": "https://localhost:8080/"
        },
        "id": "byaXIDNTUG3H",
        "outputId": "c15380a2-988a-412e-afb8-6a9f41dc53a4"
      },
      "execution_count": null,
      "outputs": [
        {
          "output_type": "stream",
          "name": "stdout",
          "text": [
            "'data.frame':\t150 obs. of  5 variables:\n",
            " $ Sepal.Length: num  5.1 4.9 4.7 4.6 5 5.4 4.6 5 4.4 4.9 ...\n",
            " $ Sepal.Width : num  3.5 3 3.2 3.1 3.6 3.9 3.4 3.4 2.9 3.1 ...\n",
            " $ Petal.Length: num  1.4 1.4 1.3 1.5 1.4 1.7 1.4 1.5 1.4 1.5 ...\n",
            " $ Petal.Width : num  0.2 0.2 0.2 0.2 0.2 0.4 0.3 0.2 0.2 0.1 ...\n",
            " $ Species     : Factor w/ 3 levels \"setosa\",\"versicolor\",..: 1 1 1 1 1 1 1 1 1 1 ...\n",
            "Range =  4.3 7.9\n",
            "Mean =  5.843333\n",
            "Median =  5.8\n",
            "First quantile =  5.1\n",
            "Third quantile =  6.4\n",
            "Inter quantile range =  1.3\n",
            "Variance =  0.4358663 \n",
            "Standard Variation =  0.1899794 \n",
            "  Sepal.Length    Sepal.Width     Petal.Length    Petal.Width   \n",
            " Min.   :4.300   Min.   :2.000   Min.   :1.000   Min.   :0.100  \n",
            " 1st Qu.:5.100   1st Qu.:2.800   1st Qu.:1.600   1st Qu.:0.300  \n",
            " Median :5.800   Median :3.000   Median :4.350   Median :1.300  \n",
            " Mean   :5.843   Mean   :3.057   Mean   :3.758   Mean   :1.199  \n",
            " 3rd Qu.:6.400   3rd Qu.:3.300   3rd Qu.:5.100   3rd Qu.:1.800  \n",
            " Max.   :7.900   Max.   :4.400   Max.   :6.900   Max.   :2.500  \n",
            "       Species  \n",
            " setosa    :50  \n",
            " versicolor:50  \n",
            " virginica :50  \n",
            "                \n",
            "                \n",
            "                \n"
          ]
        }
      ]
    },
    {
      "cell_type": "markdown",
      "source": [
        "(5) R does not have a standard in-built function to calculate mode. So we create a user\n",
        "function to calculate mode of a data set in R. This function takes the vector as input\n",
        "and gives the mode value as output."
      ],
      "metadata": {
        "id": "1mYeMWSJY-IX"
      }
    },
    {
      "cell_type": "code",
      "source": [
        "%%R\n",
        "getMode <- function(vec1){\n",
        "  uniqv = unique(vec1) # creates a vector with only the unique elements from the given dataset\n",
        "  \n",
        "  uniqv[which.max(tabulate(match(vec1,uniqv)))]\n",
        "  \n",
        "  # match() function matches the data from the unique vector to the given vector and returns the index at which it finds that data\n",
        "  # The match() function in R is used to: Return the index position of the first element present in a vector with a specific value\n",
        "  # tabulate function will create a frequency table of the given indices\n",
        "  # which.max will return the maximum value of the frequency table created by tabulate\n",
        "  \n",
        "}\n",
        "\n",
        "\n",
        "vec1 = c(2,1,2,3,1,2,3,4,1,5,5,3,2,3)\n",
        "result = getMode(vec1)\n",
        "print(result)\n",
        "\n",
        "\n",
        "\n",
        "\n"
      ],
      "metadata": {
        "colab": {
          "base_uri": "https://localhost:8080/"
        },
        "id": "-7vL2WNJZBFo",
        "outputId": "1bb807b2-39ad-4a55-a55f-c692d8a7bc4a"
      },
      "execution_count": null,
      "outputs": [
        {
          "output_type": "stream",
          "name": "stdout",
          "text": [
            "[1] 2\n"
          ]
        }
      ]
    }
  ]
}