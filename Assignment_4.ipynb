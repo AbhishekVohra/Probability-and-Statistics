{
  "cells": [
    {
      "cell_type": "markdown",
      "metadata": {
        "id": "view-in-github",
        "colab_type": "text"
      },
      "source": [
        "<a href=\"https://colab.research.google.com/github/AbhishekVohra/Probability-and-Statistics/blob/main/Assignment_4.ipynb\" target=\"_parent\"><img src=\"https://colab.research.google.com/assets/colab-badge.svg\" alt=\"Open In Colab\"/></a>"
      ]
    },
    {
      "cell_type": "code",
      "execution_count": null,
      "metadata": {
        "id": "7jS7IffqmxY9"
      },
      "outputs": [],
      "source": [
        "## Assignment 4"
      ]
    },
    {
      "cell_type": "markdown",
      "metadata": {
        "id": "mQLxma5gm3y5"
      },
      "source": [
        "Q1<br>\n",
        "The probability distribution of X, the number of imperfections per 10 meters of a \n",
        "synthetic fabric in continuous rolls of uniform width, is given as\n",
        "x 0 1 2 3 4\n",
        "p(x) 0.41 0.37 0.16 0.05 0.01\n",
        "Find the average number of imperfections per 10 meters of this fabric.\n",
        "(Try functions sum( ), weighted.mean( ), c(a %*% b) to find expected value/mean."
      ]
    },
    {
      "cell_type": "code",
      "execution_count": null,
      "metadata": {
        "colab": {
          "base_uri": "https://localhost:8080/",
          "height": 69
        },
        "id": "2_fWaQQVnbWz",
        "outputId": "4f38e1c7-3882-4e14-c1ec-8dff08401aa4"
      },
      "outputs": [
        {
          "data": {
            "text/html": [
              "0.88"
            ],
            "text/latex": [
              "0.88"
            ],
            "text/markdown": [
              "0.88"
            ],
            "text/plain": [
              "[1] 0.88"
            ]
          },
          "metadata": {},
          "output_type": "display_data"
        },
        {
          "data": {
            "text/html": [
              "0.88"
            ],
            "text/latex": [
              "0.88"
            ],
            "text/markdown": [
              "0.88"
            ],
            "text/plain": [
              "[1] 0.88"
            ]
          },
          "metadata": {},
          "output_type": "display_data"
        },
        {
          "data": {
            "text/html": [
              "0.88"
            ],
            "text/latex": [
              "0.88"
            ],
            "text/markdown": [
              "0.88"
            ],
            "text/plain": [
              "[1] 0.88"
            ]
          },
          "metadata": {},
          "output_type": "display_data"
        }
      ],
      "source": [
        "# Compute a weighted mean.\n",
        "# %*% this is for matrix multiplication. \n",
        "x<-c(0,1,2,3,4)\n",
        "p<-c(0.41,0.37,0.16,0.05,0.01)\n",
        "m<-sum (x*p)\n",
        "m\n",
        "weighted.mean (x, p) \n",
        "b<-c (x%*%p)\n",
        "b"
      ]
    },
    {
      "cell_type": "markdown",
      "metadata": {
        "id": "dkBO7xfUm_ZF"
      },
      "source": [
        "Q2<br>\n",
        "The time T, in days, required for the completion of a contracted project is a random \n",
        "variable with probability density function f(t) = 0.1 e^(-0.1t)\n",
        "for t > 0 and 0 otherwise. Find \n",
        "the expected value of T.\n",
        "Use function integrate( ) to find the expected value of continuous random variable T.\n"
      ]
    },
    {
      "cell_type": "code",
      "execution_count": null,
      "metadata": {
        "colab": {
          "base_uri": "https://localhost:8080/"
        },
        "id": "TLnbA0VGnbv0",
        "outputId": "6d1b4cd7-9280-48a4-ecd8-7536c10acb50"
      },
      "outputs": [
        {
          "name": "stdout",
          "output_type": "stream",
          "text": [
            "[1] 10\n"
          ]
        }
      ],
      "source": [
        "integrand<-function (x) { (0.1*x*exp (-0.1*x))}\n",
        "# we use the integrate function for single integrations\n",
        "# integrate(function, lowerlimit, upperlimit) \n",
        "ans<-integrate (integrand, 0, Inf) \n",
        "print (ans$value)"
      ]
    },
    {
      "cell_type": "markdown",
      "metadata": {
        "id": "Ll9ENdmbnHWA"
      },
      "source": [
        "Q3<br>\n",
        "A bookstore purchases three copies of a book at $6.00 each and sells them for $12.00 \n",
        "each. Unsold copies are returned for $2.00 each. Let X = {number of copies sold} and \n",
        "Y = {net revenue}. If the probability mass function of X is\n",
        "x 0 1 2 3\n",
        "p(x) 0.1 0.2 0.2 0.5\n",
        "Find the expected value of Y."
      ]
    },
    {
      "cell_type": "code",
      "execution_count": null,
      "metadata": {
        "colab": {
          "base_uri": "https://localhost:8080/",
          "height": 34
        },
        "id": "xqmtNuFbnchB",
        "outputId": "32f022ea-a310-4535-80a2-f7470e82479a"
      },
      "outputs": [
        {
          "data": {
            "text/html": [
              "9"
            ],
            "text/latex": [
              "9"
            ],
            "text/markdown": [
              "9"
            ],
            "text/plain": [
              "[1] 9"
            ]
          },
          "metadata": {},
          "output_type": "display_data"
        }
      ],
      "source": [
        "x<-c (0,1,2,3)\n",
        "p<-c(0.1,0.2,0.2,0.5)\n",
        "y<-function (x) {12*x +2* (3-x) -18} \n",
        "# formula of expected value = summation(x*p(x))\n",
        "z<-sum (y (x) *p)\n",
        "z"
      ]
    },
    {
      "cell_type": "markdown",
      "metadata": {
        "id": "3deqKrWunJR5"
      },
      "source": [
        "Q4<br>\n",
        "Find the first and second moments about the origin of the random variable X with \n",
        "probability density function f(x) = 0.5e\n",
        "-|x|\n",
        ", 1 < x < 10 and 0 otherwise. Further use the \n",
        "results to find Mean and Variance.\n",
        "(kth moment = E(Xk\n",
        "), Mean = first moment and Variance = second moment – Mean2\n",
        ".\n"
      ]
    },
    {
      "cell_type": "code",
      "execution_count": null,
      "metadata": {
        "colab": {
          "base_uri": "https://localhost:8080/",
          "height": 52
        },
        "id": "AXBFEiXSndzc",
        "outputId": "d464ab14-7304-43e9-cc59-e757201f5b40"
      },
      "outputs": [
        {
          "ename": "",
          "evalue": "",
          "output_type": "error",
          "traceback": [
            "\u001b[1;31mRunning cells with 'Python 3.9.12' requires ipykernel package.\n",
            "\u001b[1;31mRun the following command to install 'ipykernel' into the Python environment. \n",
            "\u001b[1;31mCommand: 'conda install -p c:\\Users\\Lenovo\\miniconda3 ipykernel --update-deps --force-reinstall'"
          ]
        }
      ],
      "source": [
        "F<-function (x) {0.5*x* exp (-abs (x))} \n",
        "val<-integrate (F,1,10)\n",
        "print (val$value)\n",
        "#val2‹-integrate (F*x, 1, 10)\n",
        "M<-function (x) {0.5* (x^2) *exp (-abs (x))} \n",
        "val2<-integrate (M, 1, 10)\n",
        "ans<-(val2$value-(val$value*val$value))\n",
        "ans"
      ]
    },
    {
      "cell_type": "markdown",
      "metadata": {
        "id": "81rS39WtnMEF"
      },
      "source": [
        "Q5<br>\n",
        "Let X be a geometric random variable with probability distribution\n",
        "\n",
        "Write a function to find the probability distribution of the random variable Y = X2\n",
        "and \n",
        "find probability of Y for X = 3. Further, use it to find the expected value and variance of \n",
        "Y for X = 1,2,3,4,5"
      ]
    },
    {
      "cell_type": "code",
      "execution_count": null,
      "metadata": {
        "colab": {
          "base_uri": "https://localhost:8080/",
          "height": 69
        },
        "id": "_9NoXZNXnec_",
        "outputId": "5c217df9-ec12-45b6-d3f1-e9218f1cfa32"
      },
      "outputs": [
        {
          "data": {
            "text/html": [
              "0.046875"
            ],
            "text/latex": [
              "0.046875"
            ],
            "text/markdown": [
              "0.046875"
            ],
            "text/plain": [
              "[1] 0.046875"
            ]
          },
          "metadata": {},
          "output_type": "display_data"
        },
        {
          "data": {
            "text/html": [
              "2.1826171875"
            ],
            "text/latex": [
              "2.1826171875"
            ],
            "text/markdown": [
              "2.1826171875"
            ],
            "text/plain": [
              "[1] 2.182617"
            ]
          },
          "metadata": {},
          "output_type": "display_data"
        },
        {
          "data": {
            "text/html": [
              "7.61411190032959"
            ],
            "text/latex": [
              "7.61411190032959"
            ],
            "text/markdown": [
              "7.61411190032959"
            ],
            "text/plain": [
              "[1] 7.614112"
            ]
          },
          "metadata": {},
          "output_type": "display_data"
        }
      ],
      "source": [
        "f<-function(y){(3/4)*((1/4)^(sqrt(y)-1))}\n",
        "f(9)\n",
        "X<-c(1,2,3,4,5)\n",
        "y<-(X^2)\n",
        "exp<-sum(y*f(y))\n",
        "exp\n",
        "exp2<-sum(y*y*f(y))\n",
        "# variance formula = E2 - (E)^2\n",
        "var<-exp2-(exp*exp)\n",
        "var"
      ]
    }
  ],
  "metadata": {
    "colab": {
      "provenance": [],
      "include_colab_link": true
    },
    "kernelspec": {
      "display_name": "Python 3.9.12",
      "language": "python",
      "name": "python3"
    },
    "language_info": {
      "name": "python",
      "version": "3.9.12"
    },
    "vscode": {
      "interpreter": {
        "hash": "d352f530d35ba9a8cbd74dc54ae14fe97a35856bed16a2f3b615ca61b68e7fcb"
      }
    }
  },
  "nbformat": 4,
  "nbformat_minor": 0
}