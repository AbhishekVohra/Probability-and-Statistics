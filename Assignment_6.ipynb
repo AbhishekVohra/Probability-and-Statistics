{
  "nbformat": 4,
  "nbformat_minor": 0,
  "metadata": {
    "colab": {
      "provenance": [],
      "collapsed_sections": [],
      "authorship_tag": "ABX9TyMYx1634wdNmfqjJchZFg1W",
      "include_colab_link": true
    },
    "kernelspec": {
      "name": "python3",
      "display_name": "Python 3"
    },
    "language_info": {
      "name": "python"
    }
  },
  "cells": [
    {
      "cell_type": "markdown",
      "metadata": {
        "id": "view-in-github",
        "colab_type": "text"
      },
      "source": [
        "<a href=\"https://colab.research.google.com/github/AbhishekVohra/Probability-and-Statistics/blob/main/Assignment_6.ipynb\" target=\"_parent\"><img src=\"https://colab.research.google.com/assets/colab-badge.svg\" alt=\"Open In Colab\"/></a>"
      ]
    },
    {
      "cell_type": "markdown",
      "source": [
        "## **Probability and Statistics Assignment - 6**\n"
      ],
      "metadata": {
        "id": "rq98KeDPYd2c"
      }
    },
    {
      "cell_type": "code",
      "source": [
        "%load_ext rpy2.ipython"
      ],
      "metadata": {
        "id": "GizoA1EQa-Kl",
        "colab": {
          "base_uri": "https://localhost:8080/"
        },
        "outputId": "4c60c933-e80f-4f28-839a-ef91c3fcee22"
      },
      "execution_count": 4,
      "outputs": [
        {
          "output_type": "stream",
          "name": "stdout",
          "text": [
            "The rpy2.ipython extension is already loaded. To reload it, use:\n",
            "  %reload_ext rpy2.ipython\n"
          ]
        }
      ]
    },
    {
      "cell_type": "code",
      "source": [
        "%%R\n",
        "if(!require('pracma')) {\n",
        "    install.packages('pracma')\n",
        "    library('pracma')\n",
        "}"
      ],
      "metadata": {
        "colab": {
          "base_uri": "https://localhost:8080/"
        },
        "id": "ObYssxjNbTw_",
        "outputId": "f01c6c49-07de-45ba-dcbb-745369932c0f"
      },
      "execution_count": 6,
      "outputs": [
        {
          "output_type": "stream",
          "name": "stderr",
          "text": [
            "WARNING:rpy2.rinterface_lib.callbacks:R[write to console]: Loading required package: pracma\n",
            "\n",
            "WARNING:rpy2.rinterface_lib.callbacks:R[write to console]: Installing package into ‘/usr/local/lib/R/site-library’\n",
            "(as ‘lib’ is unspecified)\n",
            "\n",
            "WARNING:rpy2.rinterface_lib.callbacks:R[write to console]: trying URL 'https://cran.rstudio.com/src/contrib/pracma_2.4.2.tar.gz'\n",
            "\n",
            "WARNING:rpy2.rinterface_lib.callbacks:R[write to console]: Content type 'application/x-gzip'\n",
            "WARNING:rpy2.rinterface_lib.callbacks:R[write to console]:  length 399611 bytes (390 KB)\n",
            "\n",
            "WARNING:rpy2.rinterface_lib.callbacks:R[write to console]: =\n",
            "WARNING:rpy2.rinterface_lib.callbacks:R[write to console]: =\n",
            "WARNING:rpy2.rinterface_lib.callbacks:R[write to console]: =\n",
            "WARNING:rpy2.rinterface_lib.callbacks:R[write to console]: =\n",
            "WARNING:rpy2.rinterface_lib.callbacks:R[write to console]: =\n",
            "WARNING:rpy2.rinterface_lib.callbacks:R[write to console]: =\n",
            "WARNING:rpy2.rinterface_lib.callbacks:R[write to console]: =\n",
            "WARNING:rpy2.rinterface_lib.callbacks:R[write to console]: =\n",
            "WARNING:rpy2.rinterface_lib.callbacks:R[write to console]: =\n",
            "WARNING:rpy2.rinterface_lib.callbacks:R[write to console]: =\n",
            "WARNING:rpy2.rinterface_lib.callbacks:R[write to console]: =\n",
            "WARNING:rpy2.rinterface_lib.callbacks:R[write to console]: =\n",
            "WARNING:rpy2.rinterface_lib.callbacks:R[write to console]: =\n",
            "WARNING:rpy2.rinterface_lib.callbacks:R[write to console]: =\n",
            "WARNING:rpy2.rinterface_lib.callbacks:R[write to console]: =\n",
            "WARNING:rpy2.rinterface_lib.callbacks:R[write to console]: =\n",
            "WARNING:rpy2.rinterface_lib.callbacks:R[write to console]: =\n",
            "WARNING:rpy2.rinterface_lib.callbacks:R[write to console]: =\n",
            "WARNING:rpy2.rinterface_lib.callbacks:R[write to console]: =\n",
            "WARNING:rpy2.rinterface_lib.callbacks:R[write to console]: =\n",
            "WARNING:rpy2.rinterface_lib.callbacks:R[write to console]: =\n",
            "WARNING:rpy2.rinterface_lib.callbacks:R[write to console]: =\n",
            "WARNING:rpy2.rinterface_lib.callbacks:R[write to console]: =\n",
            "WARNING:rpy2.rinterface_lib.callbacks:R[write to console]: =\n",
            "WARNING:rpy2.rinterface_lib.callbacks:R[write to console]: =\n",
            "WARNING:rpy2.rinterface_lib.callbacks:R[write to console]: =\n",
            "WARNING:rpy2.rinterface_lib.callbacks:R[write to console]: =\n",
            "WARNING:rpy2.rinterface_lib.callbacks:R[write to console]: =\n",
            "WARNING:rpy2.rinterface_lib.callbacks:R[write to console]: =\n",
            "WARNING:rpy2.rinterface_lib.callbacks:R[write to console]: =\n",
            "WARNING:rpy2.rinterface_lib.callbacks:R[write to console]: =\n",
            "WARNING:rpy2.rinterface_lib.callbacks:R[write to console]: =\n",
            "WARNING:rpy2.rinterface_lib.callbacks:R[write to console]: =\n",
            "WARNING:rpy2.rinterface_lib.callbacks:R[write to console]: =\n",
            "WARNING:rpy2.rinterface_lib.callbacks:R[write to console]: =\n",
            "WARNING:rpy2.rinterface_lib.callbacks:R[write to console]: =\n",
            "WARNING:rpy2.rinterface_lib.callbacks:R[write to console]: =\n",
            "WARNING:rpy2.rinterface_lib.callbacks:R[write to console]: =\n",
            "WARNING:rpy2.rinterface_lib.callbacks:R[write to console]: =\n",
            "WARNING:rpy2.rinterface_lib.callbacks:R[write to console]: =\n",
            "WARNING:rpy2.rinterface_lib.callbacks:R[write to console]: =\n",
            "WARNING:rpy2.rinterface_lib.callbacks:R[write to console]: =\n",
            "WARNING:rpy2.rinterface_lib.callbacks:R[write to console]: =\n",
            "WARNING:rpy2.rinterface_lib.callbacks:R[write to console]: =\n",
            "WARNING:rpy2.rinterface_lib.callbacks:R[write to console]: =\n",
            "WARNING:rpy2.rinterface_lib.callbacks:R[write to console]: =\n",
            "WARNING:rpy2.rinterface_lib.callbacks:R[write to console]: =\n",
            "WARNING:rpy2.rinterface_lib.callbacks:R[write to console]: =\n",
            "WARNING:rpy2.rinterface_lib.callbacks:R[write to console]: =\n",
            "WARNING:rpy2.rinterface_lib.callbacks:R[write to console]: =\n",
            "WARNING:rpy2.rinterface_lib.callbacks:R[write to console]: \n",
            "\n",
            "WARNING:rpy2.rinterface_lib.callbacks:R[write to console]: downloaded 390 KB\n",
            "\n",
            "\n",
            "WARNING:rpy2.rinterface_lib.callbacks:R[write to console]: \n",
            "\n",
            "WARNING:rpy2.rinterface_lib.callbacks:R[write to console]: \n",
            "WARNING:rpy2.rinterface_lib.callbacks:R[write to console]: The downloaded source packages are in\n",
            "\t‘/tmp/RtmpCde9td/downloaded_packages’\n",
            "WARNING:rpy2.rinterface_lib.callbacks:R[write to console]: \n",
            "WARNING:rpy2.rinterface_lib.callbacks:R[write to console]: \n",
            "\n"
          ]
        }
      ]
    },
    {
      "cell_type": "markdown",
      "source": [
        "Q1 The joint probability density of two random variables X and Y is\n",
        "\n",
        "f(x,y) = 2(2x + 3y)/5; 0<=x,y<=1 <br>\n",
        "f(x,y) = 0; elsewhere"
      ],
      "metadata": {
        "id": "KhjYZxkTZdGq"
      }
    },
    {
      "cell_type": "markdown",
      "source": [
        "Q1 (i) check that it is a joint density function or nor?"
      ],
      "metadata": {
        "id": "M6qnNGP2aYgg"
      }
    },
    {
      "cell_type": "code",
      "source": [
        "%%R\n",
        "f = function(x,y) 2*(2*x+3*y)/5\n",
        "I = integral2(f,xmin=0,xmax=1,ymin=0,ymax=1)\n",
        "I$Q"
      ],
      "metadata": {
        "colab": {
          "base_uri": "https://localhost:8080/"
        },
        "id": "n6pda2XyaNwf",
        "outputId": "6acd8133-7f16-4667-f788-02d3652bc703"
      },
      "execution_count": 8,
      "outputs": [
        {
          "output_type": "stream",
          "name": "stdout",
          "text": [
            "[1] 1\n"
          ]
        }
      ]
    },
    {
      "cell_type": "markdown",
      "source": [
        "Q1 (ii) Find marginl distribution g(x) at x = 1."
      ],
      "metadata": {
        "id": "mCRCAw14bxxB"
      }
    },
    {
      "cell_type": "code",
      "source": [
        "%%R\n",
        "gx_1 = function(y) f(1,y)\n",
        "gx1 = integral(gx_1,0,1)\n",
        "cat(gx1)"
      ],
      "metadata": {
        "colab": {
          "base_uri": "https://localhost:8080/"
        },
        "id": "cn-lSqckb7eY",
        "outputId": "f1fbe50b-7e0f-434f-b579-be545072ec19"
      },
      "execution_count": 9,
      "outputs": [
        {
          "output_type": "stream",
          "name": "stdout",
          "text": [
            "1.4"
          ]
        }
      ]
    },
    {
      "cell_type": "markdown",
      "source": [
        "Q1 (iii) Find the marginal distribution h(y) at y = 0"
      ],
      "metadata": {
        "id": "vN2J4fCqcM7w"
      }
    },
    {
      "cell_type": "code",
      "source": [
        "%%R\n",
        "hy_0 = function(x) f(x,0)\n",
        "hy0 = integral(hy_0,0,1)\n",
        "cat(hy0)"
      ],
      "metadata": {
        "colab": {
          "base_uri": "https://localhost:8080/"
        },
        "id": "D9Q1r86ccUTq",
        "outputId": "a34c7fcf-c320-459b-be24-ff24958c6827"
      },
      "execution_count": 10,
      "outputs": [
        {
          "output_type": "stream",
          "name": "stdout",
          "text": [
            "0.4"
          ]
        }
      ]
    },
    {
      "cell_type": "markdown",
      "source": [
        "Q1 (iv) Find the expected value of g(x,y) = xy."
      ],
      "metadata": {
        "id": "20eGdapxckRT"
      }
    },
    {
      "cell_type": "code",
      "source": [
        "%%R\n",
        "f_xy = function(x,y) f(x,y)*x*y\n",
        "E_xy = integral2(f_xy,0,1,0,1)\n",
        "E_xy$Q"
      ],
      "metadata": {
        "colab": {
          "base_uri": "https://localhost:8080/"
        },
        "id": "3V4zONMqcqbX",
        "outputId": "a8f8f40b-63d7-4d0c-9092-5822bf55a636"
      },
      "execution_count": 12,
      "outputs": [
        {
          "output_type": "stream",
          "name": "stdout",
          "text": [
            "[1] 0.3333333\n"
          ]
        }
      ]
    },
    {
      "cell_type": "markdown",
      "source": [
        "Q2 The joint probability mass function of two random variables X and Y is <br>\n",
        "f(x,y) = {(x+y)/30; x = 0,1,2,3; y = 0,1,2}"
      ],
      "metadata": {
        "id": "bJfXcO-idEjR"
      }
    },
    {
      "cell_type": "markdown",
      "source": [
        "Q2 (i) Display the joint mass function in rectangular (matrix) form."
      ],
      "metadata": {
        "id": "4s5lCto1dh45"
      }
    },
    {
      "cell_type": "code",
      "source": [
        "%%R\n",
        "f = function(x,y) (x+y)/30\n",
        "x = c(0:3)\n",
        "y = c(0:2)\n",
        "M1 = matrix(c(f(0,0:2),f(1,0:2),f(2,0:2),f(3,0:2)), nrow = 4, ncol = 3, byrow = TRUE)\n",
        "M1"
      ],
      "metadata": {
        "colab": {
          "base_uri": "https://localhost:8080/"
        },
        "id": "yPARUd5OdVGb",
        "outputId": "57ee934a-bf74-4e29-a661-c62b5b6548ef"
      },
      "execution_count": 30,
      "outputs": [
        {
          "output_type": "stream",
          "name": "stdout",
          "text": [
            "           [,1]       [,2]       [,3]\n",
            "[1,] 0.00000000 0.03333333 0.06666667\n",
            "[2,] 0.03333333 0.06666667 0.10000000\n",
            "[3,] 0.06666667 0.10000000 0.13333333\n",
            "[4,] 0.10000000 0.13333333 0.16666667\n"
          ]
        }
      ]
    },
    {
      "cell_type": "markdown",
      "source": [
        "Q2 (ii) Check that it is joint mass function or not?"
      ],
      "metadata": {
        "id": "PLAC2q9Dd9hY"
      }
    },
    {
      "cell_type": "code",
      "source": [
        "%%R\n",
        "sum(M1)"
      ],
      "metadata": {
        "colab": {
          "base_uri": "https://localhost:8080/"
        },
        "id": "raz7Yw0veCYH",
        "outputId": "c61086d5-ab83-4118-ecaf-6683c98862db"
      },
      "execution_count": 15,
      "outputs": [
        {
          "output_type": "stream",
          "name": "stdout",
          "text": [
            "[1] 1\n"
          ]
        }
      ]
    },
    {
      "cell_type": "markdown",
      "source": [
        "Q2 (iii) Find the marginal distribution g(x) for x = 0,1,2,3"
      ],
      "metadata": {
        "id": "YLoNw3RceWIE"
      }
    },
    {
      "cell_type": "code",
      "source": [
        "%%R\n",
        "gx = apply(M1,1,sum)\n",
        "gx"
      ],
      "metadata": {
        "colab": {
          "base_uri": "https://localhost:8080/"
        },
        "id": "X5yMaGhYednh",
        "outputId": "4503b697-8b10-4fc3-a5a7-df73fc4eb82a"
      },
      "execution_count": 17,
      "outputs": [
        {
          "output_type": "stream",
          "name": "stdout",
          "text": [
            "[1] 0.1 0.2 0.3 0.4\n"
          ]
        }
      ]
    },
    {
      "cell_type": "markdown",
      "source": [
        "Q2 (iv) Find the marginal distribution h(y) for y = 0,1,2"
      ],
      "metadata": {
        "id": "kgkGqoQbevIX"
      }
    },
    {
      "cell_type": "code",
      "source": [
        "%%R\n",
        "hy = apply(M1,2,sum)\n",
        "hy"
      ],
      "metadata": {
        "colab": {
          "base_uri": "https://localhost:8080/"
        },
        "id": "xQYWCwPve4RJ",
        "outputId": "57eec759-e9f3-4bd9-8fc5-2be6eb1ac22c"
      },
      "execution_count": 19,
      "outputs": [
        {
          "output_type": "stream",
          "name": "stdout",
          "text": [
            "[1] 0.2000000 0.3333333 0.4666667\n"
          ]
        }
      ]
    },
    {
      "cell_type": "markdown",
      "source": [
        "Q2 (v) Find the conditional probability at x = 0 given y = 1."
      ],
      "metadata": {
        "id": "8x-CAzFLfIoG"
      }
    },
    {
      "cell_type": "code",
      "source": [
        "%%R\n",
        "M1[1,2]\n",
        "hy[2]\n",
        "p_x0_y1 = M1[1,2]/hy[2]\n",
        "p_x0_y1"
      ],
      "metadata": {
        "colab": {
          "base_uri": "https://localhost:8080/"
        },
        "id": "ml_chB7dfQSb",
        "outputId": "fad8baba-35e2-46f2-d85d-65c6ee644afe"
      },
      "execution_count": 20,
      "outputs": [
        {
          "output_type": "stream",
          "name": "stdout",
          "text": [
            "[1] 0.1\n"
          ]
        }
      ]
    },
    {
      "cell_type": "markdown",
      "source": [
        "Q2 (vi) Find E(x), E(y), E(xy), Var(x), Var(y), Cov(x,y) and its correlation coefficient."
      ],
      "metadata": {
        "id": "rpaheAO7fjQn"
      }
    },
    {
      "cell_type": "code",
      "source": [
        "%%R\n",
        "\n",
        "# E(x)\n",
        "E_x = sum(x*gx)\n",
        "cat(\"E(x) = \",E_x)\n",
        "cat(\"\\n\")\n",
        "\n",
        "# E(x^2)\n",
        "E_x2 = sum(x*x*gx)\n",
        "E_x2\n",
        "\n",
        "# Var(x)\n",
        "var_x = E_x2 - (E_x * E_x)\n",
        "cat(\"Var(x) = \", var_x)\n",
        "cat(\"\\n\")\n",
        "\n",
        "\n",
        "# E(y)\n",
        "E_y = sum(y*hy)\n",
        "cat(\"E(y) = \", E_y)\n",
        "cat(\"\\n\")\n",
        "\n",
        "# E(y^2)\n",
        "E_y2 = sum(y*y*hy)\n",
        "E_y2\n",
        "\n",
        "# Var(y)\n",
        "var_y = E_y2 - (E_y * E_y)\n",
        "cat(\"Var(y) = \", var_y)\n",
        "cat(\"\\n\")\n",
        "\n",
        "# E(xy)\n",
        "x = c(0:3)\n",
        "y = c(0:2)\n",
        "\n",
        "f1 = function(x,y) x*y*(x+y)/30\n",
        "M2 = matrix(c(f1(0,0:2), f1(1,0:2), f1(2,0:2), f1(3,0:2)), nrow = 4, ncol = 3, byrow = TRUE)\n",
        "M2\n",
        "E_xy = sum(M2)\n",
        "cat(\"E(xy) = \",E_xy)\n",
        "cat(\"\\n\")\n",
        "\n",
        "# Cov(xy)\n",
        "cov_xy = E_xy - (E_x * E_y)\n",
        "cat(\"Cov(xy) = \", cov_xy)\n",
        "cat(\"\\n\")\n",
        "\n",
        "r_xy = cov_xy / sqrt(var_x * var_y)\n",
        "cat(\"r(xy) = \", r_xy)\n",
        "cat(\"\\n\")"
      ],
      "metadata": {
        "colab": {
          "base_uri": "https://localhost:8080/"
        },
        "id": "HsHdlw_Qf5rN",
        "outputId": "d9b3624b-3369-40a3-da79-1f8272ddcb41"
      },
      "execution_count": 33,
      "outputs": [
        {
          "output_type": "stream",
          "name": "stdout",
          "text": [
            "E(x) =  2\n",
            "Var(x) =  1\n",
            "E(y) =  1.266667\n",
            "Var(y) =  0.5955556\n",
            "E(xy) =  2.4\n",
            "Cov(xy) =  -0.1333333\n",
            "r(xy) =  -0.1727737\n"
          ]
        }
      ]
    }
  ]
}